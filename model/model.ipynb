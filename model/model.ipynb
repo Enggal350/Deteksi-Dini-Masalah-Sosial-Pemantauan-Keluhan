{
 "cells": [
  {
   "cell_type": "code",
   "execution_count": 20,
   "metadata": {
    "_cell_guid": "b1076dfc-b9ad-4769-8c92-a6c4dae69d19",
    "_uuid": "8f2839f25d086af736a60e9eeb907d3b93b6e0e5",
    "execution": {
     "iopub.execute_input": "2025-10-10T02:40:05.139023Z",
     "iopub.status.busy": "2025-10-10T02:40:05.138356Z",
     "iopub.status.idle": "2025-10-10T02:40:05.151549Z",
     "shell.execute_reply": "2025-10-10T02:40:05.150478Z",
     "shell.execute_reply.started": "2025-10-10T02:40:05.138997Z"
    },
    "trusted": true
   },
   "outputs": [
    {
     "name": "stdout",
     "output_type": "stream",
     "text": [
      "/kaggle/input/dataset-aduan/dataset_cleaned.csv\n"
     ]
    }
   ],
   "source": [
    "# This Python 3 environment comes with many helpful analytics libraries installed\n",
    "# It is defined by the kaggle/python Docker image: https://github.com/kaggle/docker-python\n",
    "# For example, here's several helpful packages to load\n",
    "\n",
    "import numpy as np # linear algebra\n",
    "import pandas as pd # data processing, CSV file I/O (e.g. pd.read_csv)\n",
    "\n",
    "# Input data files are available in the read-only \"../input/\" directory\n",
    "# For example, running this (by clicking run or pressing Shift+Enter) will list all files under the input directory\n",
    "\n",
    "import os\n",
    "for dirname, _, filenames in os.walk('/kaggle/input'):\n",
    "    for filename in filenames:\n",
    "        print(os.path.join(dirname, filename))\n",
    "\n",
    "# You can write up to 20GB to the current directory (/kaggle/working/) that gets preserved as output when you create a version using \"Save & Run All\" \n",
    "# You can also write temporary files to /kaggle/temp/, but they won't be saved outside of the current session"
   ]
  },
  {
   "cell_type": "code",
   "execution_count": 21,
   "metadata": {
    "execution": {
     "iopub.execute_input": "2025-10-10T02:40:09.093727Z",
     "iopub.status.busy": "2025-10-10T02:40:09.093396Z",
     "iopub.status.idle": "2025-10-10T02:40:09.115969Z",
     "shell.execute_reply": "2025-10-10T02:40:09.115085Z",
     "shell.execute_reply.started": "2025-10-10T02:40:09.093704Z"
    },
    "trusted": true
   },
   "outputs": [
    {
     "data": {
      "text/html": [
       "<div>\n",
       "<style scoped>\n",
       "    .dataframe tbody tr th:only-of-type {\n",
       "        vertical-align: middle;\n",
       "    }\n",
       "\n",
       "    .dataframe tbody tr th {\n",
       "        vertical-align: top;\n",
       "    }\n",
       "\n",
       "    .dataframe thead th {\n",
       "        text-align: right;\n",
       "    }\n",
       "</style>\n",
       "<table border=\"1\" class=\"dataframe\">\n",
       "  <thead>\n",
       "    <tr style=\"text-align: right;\">\n",
       "      <th></th>\n",
       "      <th>text</th>\n",
       "      <th>kategori</th>\n",
       "    </tr>\n",
       "  </thead>\n",
       "  <tbody>\n",
       "    <tr>\n",
       "      <th>0</th>\n",
       "      <td>kondisi jalan di desa kemangkon memprihatinkan</td>\n",
       "      <td>Infrastruktur</td>\n",
       "    </tr>\n",
       "    <tr>\n",
       "      <th>1</th>\n",
       "      <td>mas Bupati tolongin dong jln PENGADEGAN arah k...</td>\n",
       "      <td>Infrastruktur</td>\n",
       "    </tr>\n",
       "    <tr>\n",
       "      <th>2</th>\n",
       "      <td>Assalamu'alaikum WR. WB Salam sejahtera, Om Sw...</td>\n",
       "      <td>Infrastruktur</td>\n",
       "    </tr>\n",
       "    <tr>\n",
       "      <th>3</th>\n",
       "      <td>Pak bupati tolong jalan yg arah bale desa kema...</td>\n",
       "      <td>Infrastruktur</td>\n",
       "    </tr>\n",
       "    <tr>\n",
       "      <th>4</th>\n",
       "      <td>jalan rusak</td>\n",
       "      <td>Infrastruktur</td>\n",
       "    </tr>\n",
       "  </tbody>\n",
       "</table>\n",
       "</div>"
      ],
      "text/plain": [
       "                                                text       kategori\n",
       "0     kondisi jalan di desa kemangkon memprihatinkan  Infrastruktur\n",
       "1  mas Bupati tolongin dong jln PENGADEGAN arah k...  Infrastruktur\n",
       "2  Assalamu'alaikum WR. WB Salam sejahtera, Om Sw...  Infrastruktur\n",
       "3  Pak bupati tolong jalan yg arah bale desa kema...  Infrastruktur\n",
       "4                                        jalan rusak  Infrastruktur"
      ]
     },
     "execution_count": 21,
     "metadata": {},
     "output_type": "execute_result"
    }
   ],
   "source": [
    "df = pd.read_csv('/kaggle/input/dataset-aduan/dataset_cleaned.csv')\n",
    "df.head()"
   ]
  },
  {
   "cell_type": "code",
   "execution_count": 22,
   "metadata": {
    "execution": {
     "iopub.execute_input": "2025-10-10T02:40:12.608565Z",
     "iopub.status.busy": "2025-10-10T02:40:12.608257Z",
     "iopub.status.idle": "2025-10-10T02:40:12.616127Z",
     "shell.execute_reply": "2025-10-10T02:40:12.615346Z",
     "shell.execute_reply.started": "2025-10-10T02:40:12.608546Z"
    },
    "trusted": true
   },
   "outputs": [
    {
     "data": {
      "text/plain": [
       "kategori\n",
       "Pelayanan Publik      254\n",
       "Infrastruktur         228\n",
       "Sosial dan Ekonomi    115\n",
       "Ketertiban             90\n",
       "Pendidikan             75\n",
       "Lingkungan             72\n",
       "Name: count, dtype: int64"
      ]
     },
     "execution_count": 22,
     "metadata": {},
     "output_type": "execute_result"
    }
   ],
   "source": [
    "df['kategori'].value_counts()"
   ]
  },
  {
   "cell_type": "code",
   "execution_count": 23,
   "metadata": {
    "execution": {
     "iopub.execute_input": "2025-10-10T02:40:15.500932Z",
     "iopub.status.busy": "2025-10-10T02:40:15.500595Z",
     "iopub.status.idle": "2025-10-10T02:40:15.508199Z",
     "shell.execute_reply": "2025-10-10T02:40:15.507095Z",
     "shell.execute_reply.started": "2025-10-10T02:40:15.500909Z"
    },
    "trusted": true
   },
   "outputs": [
    {
     "data": {
      "text/plain": [
       "834"
      ]
     },
     "execution_count": 23,
     "metadata": {},
     "output_type": "execute_result"
    }
   ],
   "source": [
    "x = df['text']\n",
    "y = df['kategori']\n",
    "len(x)"
   ]
  },
  {
   "cell_type": "code",
   "execution_count": 24,
   "metadata": {
    "execution": {
     "iopub.execute_input": "2025-10-10T02:40:19.169701Z",
     "iopub.status.busy": "2025-10-10T02:40:19.169376Z",
     "iopub.status.idle": "2025-10-10T02:40:19.176773Z",
     "shell.execute_reply": "2025-10-10T02:40:19.175885Z",
     "shell.execute_reply.started": "2025-10-10T02:40:19.169660Z"
    },
    "trusted": true
   },
   "outputs": [],
   "source": [
    "from sklearn.model_selection import train_test_split\n",
    "x_train, x_test, y_train, y_test = train_test_split(x,y, test_size=0.2, random_state= 22)"
   ]
  },
  {
   "cell_type": "code",
   "execution_count": 25,
   "metadata": {
    "execution": {
     "iopub.execute_input": "2025-10-10T02:40:22.933527Z",
     "iopub.status.busy": "2025-10-10T02:40:22.932731Z",
     "iopub.status.idle": "2025-10-10T02:40:22.939187Z",
     "shell.execute_reply": "2025-10-10T02:40:22.938208Z",
     "shell.execute_reply.started": "2025-10-10T02:40:22.933500Z"
    },
    "trusted": true
   },
   "outputs": [
    {
     "data": {
      "text/plain": [
       "167"
      ]
     },
     "execution_count": 25,
     "metadata": {},
     "output_type": "execute_result"
    }
   ],
   "source": [
    "len(x_test)"
   ]
  },
  {
   "cell_type": "code",
   "execution_count": 26,
   "metadata": {
    "execution": {
     "iopub.execute_input": "2025-10-10T02:40:26.278692Z",
     "iopub.status.busy": "2025-10-10T02:40:26.278371Z",
     "iopub.status.idle": "2025-10-10T02:40:26.283542Z",
     "shell.execute_reply": "2025-10-10T02:40:26.282665Z",
     "shell.execute_reply.started": "2025-10-10T02:40:26.278651Z"
    },
    "trusted": true
   },
   "outputs": [],
   "source": [
    "from sklearn.pipeline import Pipeline\n",
    "from sklearn.feature_extraction.text import TfidfVectorizer\n",
    "from sklearn.naive_bayes import MultinomialNB,ComplementNB\n",
    "from sklearn.svm import LinearSVC\n",
    "from sklearn.metrics import accuracy_score, classification_report"
   ]
  },
  {
   "cell_type": "code",
   "execution_count": 9,
   "metadata": {
    "execution": {
     "iopub.execute_input": "2025-10-10T02:29:27.292866Z",
     "iopub.status.busy": "2025-10-10T02:29:27.292516Z",
     "iopub.status.idle": "2025-10-10T02:29:27.297808Z",
     "shell.execute_reply": "2025-10-10T02:29:27.296999Z",
     "shell.execute_reply.started": "2025-10-10T02:29:27.292799Z"
    },
    "trusted": true
   },
   "outputs": [],
   "source": [
    "pipeMNB = Pipeline([('tfidf', TfidfVectorizer()),('clf', MultinomialNB())])\n",
    "pipeCNB = Pipeline([('tfidf', TfidfVectorizer()),('clf', ComplementNB())])\n",
    "pipeSVC = Pipeline([('tfidf', TfidfVectorizer()),('clf', LinearSVC())])"
   ]
  },
  {
   "cell_type": "code",
   "execution_count": 10,
   "metadata": {
    "execution": {
     "iopub.execute_input": "2025-10-10T02:29:27.299033Z",
     "iopub.status.busy": "2025-10-10T02:29:27.298698Z",
     "iopub.status.idle": "2025-10-10T02:29:27.523218Z",
     "shell.execute_reply": "2025-10-10T02:29:27.522247Z",
     "shell.execute_reply.started": "2025-10-10T02:29:27.299014Z"
    },
    "trusted": true
   },
   "outputs": [
    {
     "name": "stdout",
     "output_type": "stream",
     "text": [
      "MNB:0.50\n",
      "CNB:0.69\n",
      "SVC:0.72\n"
     ]
    }
   ],
   "source": [
    "pipeMNB.fit(x_train, y_train)\n",
    "predictMNB = pipeMNB.predict(x_test)\n",
    "accuracy_score(y_test, predictMNB)\n",
    "print(f\"MNB:{accuracy_score(y_test, predictMNB):.2f}\")\n",
    "pipeCNB.fit(x_train, y_train)\n",
    "predictCNB = pipeCNB.predict(x_test)\n",
    "accuracy_score(y_test, predictCNB)\n",
    "print(f\"CNB:{accuracy_score(y_test, predictCNB):.2f}\")\n",
    "pipeSVC.fit(x_train, y_train)\n",
    "predictSVC = pipeSVC.predict(x_test)\n",
    "accuracy_score(y_test, predictSVC)\n",
    "print(f\"SVC:{accuracy_score(y_test, predictSVC):.2f}\")"
   ]
  },
  {
   "cell_type": "code",
   "execution_count": 11,
   "metadata": {
    "execution": {
     "iopub.execute_input": "2025-10-10T02:29:27.526251Z",
     "iopub.status.busy": "2025-10-10T02:29:27.525984Z",
     "iopub.status.idle": "2025-10-10T02:29:27.546598Z",
     "shell.execute_reply": "2025-10-10T02:29:27.545613Z",
     "shell.execute_reply.started": "2025-10-10T02:29:27.526232Z"
    },
    "trusted": true
   },
   "outputs": [
    {
     "name": "stdout",
     "output_type": "stream",
     "text": [
      "                    precision    recall  f1-score   support\n",
      "\n",
      "     Infrastruktur       0.65      0.91      0.76        46\n",
      "        Ketertiban       0.50      0.05      0.10        19\n",
      "        Lingkungan       1.00      0.08      0.15        12\n",
      "  Pelayanan Publik       0.40      0.80      0.54        50\n",
      "        Pendidikan       0.00      0.00      0.00        17\n",
      "Sosial dan Ekonomi       0.00      0.00      0.00        23\n",
      "\n",
      "          accuracy                           0.50       167\n",
      "         macro avg       0.43      0.31      0.26       167\n",
      "      weighted avg       0.43      0.50      0.39       167\n",
      "\n"
     ]
    },
    {
     "name": "stderr",
     "output_type": "stream",
     "text": [
      "/usr/local/lib/python3.11/dist-packages/sklearn/metrics/_classification.py:1344: UndefinedMetricWarning: Precision and F-score are ill-defined and being set to 0.0 in labels with no predicted samples. Use `zero_division` parameter to control this behavior.\n",
      "  _warn_prf(average, modifier, msg_start, len(result))\n",
      "/usr/local/lib/python3.11/dist-packages/sklearn/metrics/_classification.py:1344: UndefinedMetricWarning: Precision and F-score are ill-defined and being set to 0.0 in labels with no predicted samples. Use `zero_division` parameter to control this behavior.\n",
      "  _warn_prf(average, modifier, msg_start, len(result))\n",
      "/usr/local/lib/python3.11/dist-packages/sklearn/metrics/_classification.py:1344: UndefinedMetricWarning: Precision and F-score are ill-defined and being set to 0.0 in labels with no predicted samples. Use `zero_division` parameter to control this behavior.\n",
      "  _warn_prf(average, modifier, msg_start, len(result))\n"
     ]
    }
   ],
   "source": [
    "print(classification_report(y_test, predictMNB))"
   ]
  },
  {
   "cell_type": "code",
   "execution_count": 12,
   "metadata": {
    "execution": {
     "iopub.execute_input": "2025-10-10T02:29:27.547740Z",
     "iopub.status.busy": "2025-10-10T02:29:27.547444Z",
     "iopub.status.idle": "2025-10-10T02:29:27.563615Z",
     "shell.execute_reply": "2025-10-10T02:29:27.562541Z",
     "shell.execute_reply.started": "2025-10-10T02:29:27.547712Z"
    },
    "trusted": true
   },
   "outputs": [
    {
     "name": "stdout",
     "output_type": "stream",
     "text": [
      "                    precision    recall  f1-score   support\n",
      "\n",
      "     Infrastruktur       0.68      0.93      0.79        46\n",
      "        Ketertiban       0.72      0.68      0.70        19\n",
      "        Lingkungan       0.83      0.42      0.56        12\n",
      "  Pelayanan Publik       0.60      0.60      0.60        50\n",
      "        Pendidikan       0.85      0.65      0.73        17\n",
      "Sosial dan Ekonomi       0.82      0.61      0.70        23\n",
      "\n",
      "          accuracy                           0.69       167\n",
      "         macro avg       0.75      0.65      0.68       167\n",
      "      weighted avg       0.71      0.69      0.69       167\n",
      "\n"
     ]
    }
   ],
   "source": [
    "print(classification_report(y_test, predictCNB))"
   ]
  },
  {
   "cell_type": "code",
   "execution_count": 13,
   "metadata": {
    "execution": {
     "iopub.execute_input": "2025-10-10T02:29:27.564626Z",
     "iopub.status.busy": "2025-10-10T02:29:27.564389Z",
     "iopub.status.idle": "2025-10-10T02:29:27.584942Z",
     "shell.execute_reply": "2025-10-10T02:29:27.583902Z",
     "shell.execute_reply.started": "2025-10-10T02:29:27.564607Z"
    },
    "trusted": true
   },
   "outputs": [
    {
     "name": "stdout",
     "output_type": "stream",
     "text": [
      "                    precision    recall  f1-score   support\n",
      "\n",
      "     Infrastruktur       0.80      0.93      0.86        46\n",
      "        Ketertiban       0.84      0.84      0.84        19\n",
      "        Lingkungan       0.62      0.42      0.50        12\n",
      "  Pelayanan Publik       0.60      0.62      0.61        50\n",
      "        Pendidikan       0.80      0.71      0.75        17\n",
      "Sosial dan Ekonomi       0.68      0.57      0.62        23\n",
      "\n",
      "          accuracy                           0.72       167\n",
      "         macro avg       0.72      0.68      0.70       167\n",
      "      weighted avg       0.71      0.72      0.71       167\n",
      "\n"
     ]
    }
   ],
   "source": [
    "print(classification_report(y_test, predictSVC))"
   ]
  },
  {
   "cell_type": "code",
   "execution_count": 18,
   "metadata": {
    "execution": {
     "iopub.execute_input": "2025-10-10T02:31:26.025342Z",
     "iopub.status.busy": "2025-10-10T02:31:26.024930Z",
     "iopub.status.idle": "2025-10-10T02:31:26.033243Z",
     "shell.execute_reply": "2025-10-10T02:31:26.032368Z",
     "shell.execute_reply.started": "2025-10-10T02:31:26.025318Z"
    },
    "trusted": true
   },
   "outputs": [
    {
     "data": {
      "text/plain": [
       "array(['Lingkungan'], dtype='<U18')"
      ]
     },
     "execution_count": 18,
     "metadata": {},
     "output_type": "execute_result"
    }
   ],
   "source": [
    "text = \"\"\n",
    "pipeMNB.predict([text])\n"
   ]
  },
  {
   "cell_type": "code",
   "execution_count": 19,
   "metadata": {
    "execution": {
     "iopub.execute_input": "2025-10-10T02:31:45.335364Z",
     "iopub.status.busy": "2025-10-10T02:31:45.335045Z",
     "iopub.status.idle": "2025-10-10T02:31:45.342276Z",
     "shell.execute_reply": "2025-10-10T02:31:45.341443Z",
     "shell.execute_reply.started": "2025-10-10T02:31:45.335343Z"
    },
    "trusted": true
   },
   "outputs": [
    {
     "data": {
      "text/plain": [
       "array(['Infrastruktur'], dtype='<U18')"
      ]
     },
     "execution_count": 19,
     "metadata": {},
     "output_type": "execute_result"
    }
   ],
   "source": [
    "text = \"\"\n",
    "pipeCNB.predict([text])\n"
   ]
  },
  {
   "cell_type": "code",
   "execution_count": 16,
   "metadata": {
    "execution": {
     "iopub.execute_input": "2025-10-10T02:29:27.617061Z",
     "iopub.status.busy": "2025-10-10T02:29:27.616709Z",
     "iopub.status.idle": "2025-10-10T02:29:27.634148Z",
     "shell.execute_reply": "2025-10-10T02:29:27.633255Z",
     "shell.execute_reply.started": "2025-10-10T02:29:27.617024Z"
    },
    "trusted": true
   },
   "outputs": [
    {
     "data": {
      "text/plain": [
       "array(['Pelayanan Publik'], dtype=object)"
      ]
     },
     "execution_count": 16,
     "metadata": {},
     "output_type": "execute_result"
    }
   ],
   "source": [
    "text = \"Mantap banget pelayanan di kantor pajak, ngantri 3 jam cuma buat tanya satu hal 😑\"\n",
    "pipeSVC.predict([text])"
   ]
  },
  {
   "cell_type": "code",
   "execution_count": 17,
   "metadata": {
    "execution": {
     "iopub.execute_input": "2025-10-10T02:29:27.635257Z",
     "iopub.status.busy": "2025-10-10T02:29:27.634975Z",
     "iopub.status.idle": "2025-10-10T02:29:27.688789Z",
     "shell.execute_reply": "2025-10-10T02:29:27.687895Z",
     "shell.execute_reply.started": "2025-10-10T02:29:27.635229Z"
    },
    "trusted": true
   },
   "outputs": [
    {
     "data": {
      "text/plain": [
       "['model_kategori.pkl']"
      ]
     },
     "execution_count": 17,
     "metadata": {},
     "output_type": "execute_result"
    }
   ],
   "source": [
    "import joblib\n",
    "joblib.dump(pipeCNB, \"model_kategori.pkl\")"
   ]
  }
 ],
 "metadata": {
  "kaggle": {
   "accelerator": "none",
   "dataSources": [
    {
     "datasetId": 8438792,
     "sourceId": 13313915,
     "sourceType": "datasetVersion"
    }
   ],
   "dockerImageVersionId": 31153,
   "isGpuEnabled": false,
   "isInternetEnabled": false,
   "language": "python",
   "sourceType": "notebook"
  },
  "kernelspec": {
   "display_name": "Python 3",
   "language": "python",
   "name": "python3"
  },
  "language_info": {
   "codemirror_mode": {
    "name": "ipython",
    "version": 3
   },
   "file_extension": ".py",
   "mimetype": "text/x-python",
   "name": "python",
   "nbconvert_exporter": "python",
   "pygments_lexer": "ipython3",
   "version": "3.11.9"
  }
 },
 "nbformat": 4,
 "nbformat_minor": 4
}
